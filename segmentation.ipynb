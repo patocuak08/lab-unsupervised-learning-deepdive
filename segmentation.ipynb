{
 "cells": [
  {
   "cell_type": "markdown",
   "metadata": {},
   "source": [
    "# Social Network Segmentation Analysis\n",
    "\n",
    "In this exercise, we will try to identify different groups of teenagers based on their personal preferences using an unsupervised learning model.  \n",
    "  \n",
    "Start by importing your libraries, loading the dataset and exploring its variables.  \n",
    "What features do you find? Do they have the correct datatypes?"
   ]
  },
  {
   "cell_type": "code",
   "execution_count": 17,
   "metadata": {},
   "outputs": [],
   "source": [
    "#Import your libraries here\n",
    "import numpy as np\n",
    "import matplotlib.pyplot as plt\n",
    "import seaborn as sns\n",
    "import sklearn.cluster as cluster\n",
    "import pandas as pd\n",
    "import time\n",
    "from feature_engine import imputation as mdi\n",
    "\n"
   ]
  },
  {
   "cell_type": "code",
   "execution_count": 3,
   "metadata": {},
   "outputs": [],
   "source": [
    "#Load the dataset and explore its variables\n",
    "\n",
    "data = pd.read_csv('/Users/user/lab-unsupervised-learning-deepdive/snsdata.csv')\n"
   ]
  },
  {
   "cell_type": "code",
   "execution_count": 3,
   "metadata": {},
   "outputs": [
    {
     "data": {
      "text/html": [
       "<div>\n",
       "<style scoped>\n",
       "    .dataframe tbody tr th:only-of-type {\n",
       "        vertical-align: middle;\n",
       "    }\n",
       "\n",
       "    .dataframe tbody tr th {\n",
       "        vertical-align: top;\n",
       "    }\n",
       "\n",
       "    .dataframe thead th {\n",
       "        text-align: right;\n",
       "    }\n",
       "</style>\n",
       "<table border=\"1\" class=\"dataframe\">\n",
       "  <thead>\n",
       "    <tr style=\"text-align: right;\">\n",
       "      <th></th>\n",
       "      <th>gradyear</th>\n",
       "      <th>gender</th>\n",
       "      <th>age</th>\n",
       "      <th>friends</th>\n",
       "      <th>basketball</th>\n",
       "      <th>football</th>\n",
       "      <th>soccer</th>\n",
       "      <th>softball</th>\n",
       "      <th>volleyball</th>\n",
       "      <th>swimming</th>\n",
       "      <th>...</th>\n",
       "      <th>blonde</th>\n",
       "      <th>mall</th>\n",
       "      <th>shopping</th>\n",
       "      <th>clothes</th>\n",
       "      <th>hollister</th>\n",
       "      <th>abercrombie</th>\n",
       "      <th>die</th>\n",
       "      <th>death</th>\n",
       "      <th>drunk</th>\n",
       "      <th>drugs</th>\n",
       "    </tr>\n",
       "  </thead>\n",
       "  <tbody>\n",
       "    <tr>\n",
       "      <th>0</th>\n",
       "      <td>2006</td>\n",
       "      <td>M</td>\n",
       "      <td>18.982</td>\n",
       "      <td>7</td>\n",
       "      <td>0</td>\n",
       "      <td>0</td>\n",
       "      <td>0</td>\n",
       "      <td>0</td>\n",
       "      <td>0</td>\n",
       "      <td>0</td>\n",
       "      <td>...</td>\n",
       "      <td>0</td>\n",
       "      <td>0</td>\n",
       "      <td>0</td>\n",
       "      <td>0</td>\n",
       "      <td>0</td>\n",
       "      <td>0</td>\n",
       "      <td>0</td>\n",
       "      <td>0</td>\n",
       "      <td>0</td>\n",
       "      <td>0</td>\n",
       "    </tr>\n",
       "    <tr>\n",
       "      <th>1</th>\n",
       "      <td>2006</td>\n",
       "      <td>F</td>\n",
       "      <td>18.801</td>\n",
       "      <td>0</td>\n",
       "      <td>0</td>\n",
       "      <td>1</td>\n",
       "      <td>0</td>\n",
       "      <td>0</td>\n",
       "      <td>0</td>\n",
       "      <td>0</td>\n",
       "      <td>...</td>\n",
       "      <td>0</td>\n",
       "      <td>1</td>\n",
       "      <td>0</td>\n",
       "      <td>0</td>\n",
       "      <td>0</td>\n",
       "      <td>0</td>\n",
       "      <td>0</td>\n",
       "      <td>0</td>\n",
       "      <td>0</td>\n",
       "      <td>0</td>\n",
       "    </tr>\n",
       "    <tr>\n",
       "      <th>2</th>\n",
       "      <td>2006</td>\n",
       "      <td>M</td>\n",
       "      <td>18.335</td>\n",
       "      <td>69</td>\n",
       "      <td>0</td>\n",
       "      <td>1</td>\n",
       "      <td>0</td>\n",
       "      <td>0</td>\n",
       "      <td>0</td>\n",
       "      <td>0</td>\n",
       "      <td>...</td>\n",
       "      <td>0</td>\n",
       "      <td>0</td>\n",
       "      <td>0</td>\n",
       "      <td>0</td>\n",
       "      <td>0</td>\n",
       "      <td>0</td>\n",
       "      <td>0</td>\n",
       "      <td>1</td>\n",
       "      <td>0</td>\n",
       "      <td>0</td>\n",
       "    </tr>\n",
       "    <tr>\n",
       "      <th>3</th>\n",
       "      <td>2006</td>\n",
       "      <td>F</td>\n",
       "      <td>18.875</td>\n",
       "      <td>0</td>\n",
       "      <td>0</td>\n",
       "      <td>0</td>\n",
       "      <td>0</td>\n",
       "      <td>0</td>\n",
       "      <td>0</td>\n",
       "      <td>0</td>\n",
       "      <td>...</td>\n",
       "      <td>0</td>\n",
       "      <td>0</td>\n",
       "      <td>0</td>\n",
       "      <td>0</td>\n",
       "      <td>0</td>\n",
       "      <td>0</td>\n",
       "      <td>0</td>\n",
       "      <td>0</td>\n",
       "      <td>0</td>\n",
       "      <td>0</td>\n",
       "    </tr>\n",
       "    <tr>\n",
       "      <th>4</th>\n",
       "      <td>2006</td>\n",
       "      <td>NaN</td>\n",
       "      <td>18.995</td>\n",
       "      <td>10</td>\n",
       "      <td>0</td>\n",
       "      <td>0</td>\n",
       "      <td>0</td>\n",
       "      <td>0</td>\n",
       "      <td>0</td>\n",
       "      <td>0</td>\n",
       "      <td>...</td>\n",
       "      <td>0</td>\n",
       "      <td>0</td>\n",
       "      <td>2</td>\n",
       "      <td>0</td>\n",
       "      <td>0</td>\n",
       "      <td>0</td>\n",
       "      <td>0</td>\n",
       "      <td>0</td>\n",
       "      <td>1</td>\n",
       "      <td>1</td>\n",
       "    </tr>\n",
       "  </tbody>\n",
       "</table>\n",
       "<p>5 rows × 40 columns</p>\n",
       "</div>"
      ],
      "text/plain": [
       "   gradyear gender     age  friends  basketball  football  soccer  softball  \\\n",
       "0      2006      M  18.982        7           0         0       0         0   \n",
       "1      2006      F  18.801        0           0         1       0         0   \n",
       "2      2006      M  18.335       69           0         1       0         0   \n",
       "3      2006      F  18.875        0           0         0       0         0   \n",
       "4      2006    NaN  18.995       10           0         0       0         0   \n",
       "\n",
       "   volleyball  swimming  ...  blonde  mall  shopping  clothes  hollister  \\\n",
       "0           0         0  ...       0     0         0        0          0   \n",
       "1           0         0  ...       0     1         0        0          0   \n",
       "2           0         0  ...       0     0         0        0          0   \n",
       "3           0         0  ...       0     0         0        0          0   \n",
       "4           0         0  ...       0     0         2        0          0   \n",
       "\n",
       "   abercrombie  die  death  drunk  drugs  \n",
       "0            0    0      0      0      0  \n",
       "1            0    0      0      0      0  \n",
       "2            0    0      1      0      0  \n",
       "3            0    0      0      0      0  \n",
       "4            0    0      0      1      1  \n",
       "\n",
       "[5 rows x 40 columns]"
      ]
     },
     "execution_count": 3,
     "metadata": {},
     "output_type": "execute_result"
    }
   ],
   "source": [
    "data.head()"
   ]
  },
  {
   "cell_type": "markdown",
   "metadata": {},
   "source": [
    "## 1. Data Wrangling\n",
    "\n",
    "If you found in the last step that there are variables that need to be dealt with before we can start our analysis, please do it. Comment your code and take us through the steps of your thinking.  \n",
    "\n",
    "Consider the some of these aspects:  \n",
    "* Wrong data types\n",
    "* Null values\n",
    "* Consistency in categorical data"
   ]
  },
  {
   "cell_type": "code",
   "execution_count": 4,
   "metadata": {},
   "outputs": [
    {
     "name": "stdout",
     "output_type": "stream",
     "text": [
      "<class 'pandas.core.frame.DataFrame'>\n",
      "RangeIndex: 30000 entries, 0 to 29999\n",
      "Data columns (total 40 columns):\n",
      " #   Column        Non-Null Count  Dtype  \n",
      "---  ------        --------------  -----  \n",
      " 0   gradyear      30000 non-null  int64  \n",
      " 1   gender        27276 non-null  object \n",
      " 2   age           24914 non-null  float64\n",
      " 3   friends       30000 non-null  int64  \n",
      " 4   basketball    30000 non-null  int64  \n",
      " 5   football      30000 non-null  int64  \n",
      " 6   soccer        30000 non-null  int64  \n",
      " 7   softball      30000 non-null  int64  \n",
      " 8   volleyball    30000 non-null  int64  \n",
      " 9   swimming      30000 non-null  int64  \n",
      " 10  cheerleading  30000 non-null  int64  \n",
      " 11  baseball      30000 non-null  int64  \n",
      " 12  tennis        30000 non-null  int64  \n",
      " 13  sports        30000 non-null  int64  \n",
      " 14  cute          30000 non-null  int64  \n",
      " 15  sex           30000 non-null  int64  \n",
      " 16  sexy          30000 non-null  int64  \n",
      " 17  hot           30000 non-null  int64  \n",
      " 18  kissed        30000 non-null  int64  \n",
      " 19  dance         30000 non-null  int64  \n",
      " 20  band          30000 non-null  int64  \n",
      " 21  marching      30000 non-null  int64  \n",
      " 22  music         30000 non-null  int64  \n",
      " 23  rock          30000 non-null  int64  \n",
      " 24  god           30000 non-null  int64  \n",
      " 25  church        30000 non-null  int64  \n",
      " 26  jesus         30000 non-null  int64  \n",
      " 27  bible         30000 non-null  int64  \n",
      " 28  hair          30000 non-null  int64  \n",
      " 29  dress         30000 non-null  int64  \n",
      " 30  blonde        30000 non-null  int64  \n",
      " 31  mall          30000 non-null  int64  \n",
      " 32  shopping      30000 non-null  int64  \n",
      " 33  clothes       30000 non-null  int64  \n",
      " 34  hollister     30000 non-null  int64  \n",
      " 35  abercrombie   30000 non-null  int64  \n",
      " 36  die           30000 non-null  int64  \n",
      " 37  death         30000 non-null  int64  \n",
      " 38  drunk         30000 non-null  int64  \n",
      " 39  drugs         30000 non-null  int64  \n",
      "dtypes: float64(1), int64(38), object(1)\n",
      "memory usage: 9.2+ MB\n"
     ]
    }
   ],
   "source": [
    "#Your code here:\n",
    "data.info()"
   ]
  },
  {
   "cell_type": "code",
   "execution_count": 5,
   "metadata": {},
   "outputs": [
    {
     "data": {
      "text/plain": [
       "gradyear           0\n",
       "gender          2724\n",
       "age             5086\n",
       "friends            0\n",
       "basketball         0\n",
       "football           0\n",
       "soccer             0\n",
       "softball           0\n",
       "volleyball         0\n",
       "swimming           0\n",
       "cheerleading       0\n",
       "baseball           0\n",
       "tennis             0\n",
       "sports             0\n",
       "cute               0\n",
       "sex                0\n",
       "sexy               0\n",
       "hot                0\n",
       "kissed             0\n",
       "dance              0\n",
       "band               0\n",
       "marching           0\n",
       "music              0\n",
       "rock               0\n",
       "god                0\n",
       "church             0\n",
       "jesus              0\n",
       "bible              0\n",
       "hair               0\n",
       "dress              0\n",
       "blonde             0\n",
       "mall               0\n",
       "shopping           0\n",
       "clothes            0\n",
       "hollister          0\n",
       "abercrombie        0\n",
       "die                0\n",
       "death              0\n",
       "drunk              0\n",
       "drugs              0\n",
       "dtype: int64"
      ]
     },
     "execution_count": 5,
     "metadata": {},
     "output_type": "execute_result"
    }
   ],
   "source": [
    "data.isnull().sum()"
   ]
  },
  {
   "cell_type": "code",
   "execution_count": 7,
   "metadata": {},
   "outputs": [
    {
     "data": {
      "text/plain": [
       "(30000, 40)"
      ]
     },
     "execution_count": 7,
     "metadata": {},
     "output_type": "execute_result"
    }
   ],
   "source": [
    "data.shape"
   ]
  },
  {
   "cell_type": "code",
   "execution_count": 16,
   "metadata": {},
   "outputs": [],
   "source": [
    "lista = list(data.age.unique())"
   ]
  },
  {
   "cell_type": "code",
   "execution_count": 17,
   "metadata": {},
   "outputs": [
    {
     "data": {
      "text/plain": [
       "[18.982,\n",
       " 18.801,\n",
       " 18.335,\n",
       " 18.875,\n",
       " 18.995,\n",
       " nan,\n",
       " 18.93,\n",
       " 18.322,\n",
       " 19.055,\n",
       " 18.708,\n",
       " 18.543,\n",
       " 19.463,\n",
       " 18.097,\n",
       " 18.398,\n",
       " 18.987000000000002,\n",
       " 17.158,\n",
       " 18.497,\n",
       " 18.738,\n",
       " 19.296,\n",
       " 18.752,\n",
       " 19.035999999999998,\n",
       " 19.039,\n",
       " 19.02,\n",
       " 18.426,\n",
       " 19.266,\n",
       " 18.278,\n",
       " 18.793,\n",
       " 18.524,\n",
       " 18.683,\n",
       " 19.072,\n",
       " 8.383,\n",
       " 17.906,\n",
       " 19.053,\n",
       " 18.908,\n",
       " 19.28,\n",
       " 18.324,\n",
       " 18.089000000000002,\n",
       " 19.343,\n",
       " 18.697,\n",
       " 19.239,\n",
       " 18.355,\n",
       " 18.787,\n",
       " 18.894000000000002,\n",
       " 18.809,\n",
       " 18.576,\n",
       " 19.159000000000002,\n",
       " 19.526,\n",
       " 18.782,\n",
       " 18.935,\n",
       " 18.374000000000002,\n",
       " 18.924,\n",
       " 18.976,\n",
       " 18.984,\n",
       " 18.85,\n",
       " 18.71,\n",
       " 18.207,\n",
       " 18.018,\n",
       " 19.107,\n",
       " 18.201,\n",
       " 18.565,\n",
       " 18.855999999999998,\n",
       " 106.686,\n",
       " 18.102999999999998,\n",
       " 19.217,\n",
       " 18.56,\n",
       " 84.15899999999999,\n",
       " 33.593,\n",
       " 19.359,\n",
       " 18.557000000000002,\n",
       " 18.735,\n",
       " 18.942999999999998,\n",
       " 19.014,\n",
       " 18.634,\n",
       " 18.396,\n",
       " 18.261,\n",
       " 18.73,\n",
       " 19.149,\n",
       " 18.459,\n",
       " 18.385,\n",
       " 18.825,\n",
       " 19.077,\n",
       " 18.713,\n",
       " 18.667,\n",
       " 18.836,\n",
       " 19.718,\n",
       " 19.017,\n",
       " 18.68,\n",
       " 19.255,\n",
       " 18.409000000000002,\n",
       " 18.852999999999998,\n",
       " 17.199,\n",
       " 18.59,\n",
       " 19.006,\n",
       " 18.064,\n",
       " 18.612000000000002,\n",
       " 18.430999999999997,\n",
       " 18.675,\n",
       " 18.352,\n",
       " 16.81,\n",
       " 18.625999999999998,\n",
       " 18.062,\n",
       " 19.113,\n",
       " 18.656,\n",
       " 18.669,\n",
       " 18.13,\n",
       " 18.281,\n",
       " 18.171,\n",
       " 18.762,\n",
       " 19.023,\n",
       " 19.11,\n",
       " 18.393,\n",
       " 18.595,\n",
       " 19.127,\n",
       " 18.363,\n",
       " 18.798,\n",
       " 19.562,\n",
       " 18.705,\n",
       " 18.439,\n",
       " 17.817999999999998,\n",
       " 18.867,\n",
       " 18.795,\n",
       " 19.05,\n",
       " 18.771,\n",
       " 18.105,\n",
       " 18.311,\n",
       " 18.114,\n",
       " 18.891,\n",
       " 19.129,\n",
       " 18.749000000000002,\n",
       " 18.916,\n",
       " 18.549,\n",
       " 19.201,\n",
       " 19.143,\n",
       " 19.088,\n",
       " 19.121,\n",
       " 18.598,\n",
       " 19.515,\n",
       " 18.448,\n",
       " 18.198,\n",
       " 18.305,\n",
       " 18.932000000000002,\n",
       " 18.226,\n",
       " 18.272000000000002,\n",
       " 18.250999999999998,\n",
       " 19.236,\n",
       " 17.952,\n",
       " 18.5,\n",
       " 18.434,\n",
       " 18.338,\n",
       " 18.067,\n",
       " 17.895,\n",
       " 17.374000000000002,\n",
       " 18.294,\n",
       " 18.727,\n",
       " 18.437,\n",
       " 18.658,\n",
       " 18.921,\n",
       " 19.105,\n",
       " 18.401,\n",
       " 18.839000000000002,\n",
       " 19.373,\n",
       " 18.538,\n",
       " 18.76,\n",
       " 18.357,\n",
       " 18.897000000000002,\n",
       " 18.672,\n",
       " 18.938,\n",
       " 18.845,\n",
       " 18.834,\n",
       " 18.546,\n",
       " 18.664,\n",
       " 18.743,\n",
       " 18.53,\n",
       " 18.204,\n",
       " 18.812,\n",
       " 20.238,\n",
       " 18.992,\n",
       " 18.527,\n",
       " 18.954,\n",
       " 18.33,\n",
       " 18.223,\n",
       " 18.686,\n",
       " 18.631,\n",
       " 18.864,\n",
       " 19.225,\n",
       " 18.653,\n",
       " 19.097,\n",
       " 18.289,\n",
       " 18.815,\n",
       " 18.957,\n",
       " 18.283,\n",
       " 19.242,\n",
       " 17.843,\n",
       " 18.965,\n",
       " 18.998,\n",
       " 19.031,\n",
       " 20.98,\n",
       " 18.869,\n",
       " 18.570999999999998,\n",
       " 18.078,\n",
       " 18.42,\n",
       " 18.757,\n",
       " 19.19,\n",
       " 18.467,\n",
       " 14.209000000000001,\n",
       " 19.425,\n",
       " 18.535,\n",
       " 18.475,\n",
       " 19.203,\n",
       " 19.253,\n",
       " 19.195,\n",
       " 18.442,\n",
       " 18.39,\n",
       " 19.116,\n",
       " 19.154,\n",
       " 18.349,\n",
       " 18.453,\n",
       " 18.264,\n",
       " 18.579,\n",
       " 18.387,\n",
       " 18.275,\n",
       " 18.91,\n",
       " 18.256,\n",
       " 20.137,\n",
       " 18.308,\n",
       " 19.222,\n",
       " 18.605999999999998,\n",
       " 19.047,\n",
       " 18.042,\n",
       " 18.724,\n",
       " 18.423,\n",
       " 18.817,\n",
       " 14.36,\n",
       " 18.645,\n",
       " 19.102,\n",
       " 18.248,\n",
       " 18.461,\n",
       " 19.14,\n",
       " 19.151,\n",
       " 18.887999999999998,\n",
       " 17.281,\n",
       " 19.187,\n",
       " 19.08,\n",
       " 18.382,\n",
       " 86.13600000000001,\n",
       " 19.244,\n",
       " 18.313,\n",
       " 20.008,\n",
       " 18.512999999999998,\n",
       " 19.211,\n",
       " 19.069000000000003,\n",
       " 18.7,\n",
       " 18.472,\n",
       " 18.045,\n",
       " 18.053,\n",
       " 18.149,\n",
       " 19.904,\n",
       " 17.977,\n",
       " 18.346,\n",
       " 18.519000000000002,\n",
       " 18.552,\n",
       " 18.316,\n",
       " 18.784000000000002,\n",
       " 19.179000000000002,\n",
       " 19.261,\n",
       " 19.94,\n",
       " 18.464000000000002,\n",
       " 18.968,\n",
       " 18.491,\n",
       " 18.48,\n",
       " 19.887999999999998,\n",
       " 18.541,\n",
       " 19.214000000000002,\n",
       " 18.242,\n",
       " 18.379,\n",
       " 18.245,\n",
       " 19.083,\n",
       " 18.516,\n",
       " 18.617,\n",
       " 19.4,\n",
       " 19.064,\n",
       " 19.433,\n",
       " 19.264,\n",
       " 18.259,\n",
       " 18.327,\n",
       " 19.165,\n",
       " 18.122,\n",
       " 18.902,\n",
       " 19.337,\n",
       " 19.324,\n",
       " 19.488,\n",
       " 18.883,\n",
       " 18.511,\n",
       " 18.209,\n",
       " 19.833,\n",
       " 18.805999999999997,\n",
       " 18.779,\n",
       " 18.415,\n",
       " 19.567,\n",
       " 18.877,\n",
       " 19.198,\n",
       " 19.548,\n",
       " 18.36,\n",
       " 18.754,\n",
       " 18.319000000000003,\n",
       " 19.655,\n",
       " 18.65,\n",
       " 18.585,\n",
       " 18.563,\n",
       " 19.869,\n",
       " 18.483,\n",
       " 18.375999999999998,\n",
       " 18.639,\n",
       " 106.26100000000001,\n",
       " 19.009,\n",
       " 19.756,\n",
       " 19.25,\n",
       " 18.741,\n",
       " 18.285999999999998,\n",
       " 22.029,\n",
       " 19.090999999999998,\n",
       " 18.292,\n",
       " 19.417,\n",
       " 18.428,\n",
       " 14.984000000000002,\n",
       " 19.614,\n",
       " 18.82,\n",
       " 18.477999999999998,\n",
       " 18.163,\n",
       " 18.828,\n",
       " 18.582,\n",
       " 19.877,\n",
       " 18.973,\n",
       " 17.996,\n",
       " 18.303,\n",
       " 17.467,\n",
       " 18.858,\n",
       " 19.428,\n",
       " 18.971,\n",
       " 18.195999999999998,\n",
       " 18.533,\n",
       " 18.694000000000003,\n",
       " 18.721,\n",
       " 19.132,\n",
       " 19.028,\n",
       " 19.754,\n",
       " 18.951,\n",
       " 18.765,\n",
       " 19.447,\n",
       " 18.012,\n",
       " 19.135,\n",
       " 17.769000000000002,\n",
       " 18.842,\n",
       " 18.179000000000002,\n",
       " 18.108,\n",
       " 105.84,\n",
       " 15.937000000000001,\n",
       " 18.051,\n",
       " 18.486,\n",
       " 14.423,\n",
       " 19.012,\n",
       " 18.861,\n",
       " 18.678,\n",
       " 19.075,\n",
       " 18.237000000000002,\n",
       " 18.333,\n",
       " 18.157,\n",
       " 106.86399999999999,\n",
       " 18.229,\n",
       " 18.404,\n",
       " 18.691,\n",
       " 18.494,\n",
       " 19.299,\n",
       " 18.628,\n",
       " 42.026,\n",
       " 19.042,\n",
       " 19.17,\n",
       " 18.768,\n",
       " 14.79,\n",
       " 19.230999999999998,\n",
       " 19.819000000000003,\n",
       " 18.567999999999998,\n",
       " 18.267,\n",
       " 17.925,\n",
       " 18.522000000000002,\n",
       " 19.354,\n",
       " 18.073,\n",
       " 106.927,\n",
       " 19.137999999999998,\n",
       " 18.913,\n",
       " 19.066,\n",
       " 19.034000000000002,\n",
       " 19.168,\n",
       " 19.058,\n",
       " 18.99,\n",
       " 18.24,\n",
       " 18.648,\n",
       " 18.899,\n",
       " 18.297,\n",
       " 18.155,\n",
       " 18.732,\n",
       " 18.872,\n",
       " 18.689,\n",
       " 18.823,\n",
       " 98.374,\n",
       " 18.601,\n",
       " 19.227999999999998,\n",
       " 19.247,\n",
       " 18.660999999999998,\n",
       " 18.45,\n",
       " 18.593,\n",
       " 19.025,\n",
       " 18.218,\n",
       " 19.000999999999998,\n",
       " 20.192,\n",
       " 18.3,\n",
       " 18.508,\n",
       " 17.725,\n",
       " 18.94,\n",
       " 19.51,\n",
       " 18.015,\n",
       " 17.969,\n",
       " 17.577,\n",
       " 19.455,\n",
       " 17.55,\n",
       " 18.47,\n",
       " 23.565,\n",
       " 18.776,\n",
       " 18.574,\n",
       " 18.554000000000002,\n",
       " 19.22,\n",
       " 19.403,\n",
       " 18.96,\n",
       " 19.499000000000002,\n",
       " 19.162,\n",
       " 19.146,\n",
       " 19.379,\n",
       " 17.445999999999998,\n",
       " 15.132,\n",
       " 19.529,\n",
       " 18.371,\n",
       " 18.79,\n",
       " 18.702,\n",
       " 19.305,\n",
       " 18.22,\n",
       " 17.982,\n",
       " 17.24,\n",
       " 19.124000000000002,\n",
       " 18.177,\n",
       " 18.719,\n",
       " 18.412,\n",
       " 20.227,\n",
       " 18.133,\n",
       " 19.317999999999998,\n",
       " 18.19,\n",
       " 19.721,\n",
       " 20.003,\n",
       " 18.773,\n",
       " 17.711,\n",
       " 18.445,\n",
       " 18.27,\n",
       " 17.596,\n",
       " 18.174,\n",
       " 19.745,\n",
       " 17.418,\n",
       " 15.042,\n",
       " 106.04,\n",
       " 17.965999999999998,\n",
       " 19.461,\n",
       " 14.333,\n",
       " 18.212,\n",
       " 19.512999999999998,\n",
       " 18.623,\n",
       " 19.384,\n",
       " 18.919,\n",
       " 18.366,\n",
       " 18.489,\n",
       " 18.62,\n",
       " 18.192999999999998,\n",
       " 19.086,\n",
       " 18.230999999999998,\n",
       " 19.003,\n",
       " 18.456,\n",
       " 19.313,\n",
       " 18.979,\n",
       " 14.48,\n",
       " 17.607,\n",
       " 17.224,\n",
       " 18.021,\n",
       " 19.392,\n",
       " 17.61,\n",
       " 18.152,\n",
       " 18.084,\n",
       " 19.206,\n",
       " 19.094,\n",
       " 18.029,\n",
       " 18.886,\n",
       " 14.770999999999999,\n",
       " 18.609,\n",
       " 19.184,\n",
       " 19.918,\n",
       " 18.502,\n",
       " 8.772,\n",
       " 18.949,\n",
       " 18.340999999999998,\n",
       " 18.141,\n",
       " 18.344,\n",
       " 19.838,\n",
       " 42.211999999999996,\n",
       " 18.831,\n",
       " 19.099,\n",
       " 18.037,\n",
       " 19.406,\n",
       " 18.215,\n",
       " 19.395,\n",
       " 19.54,\n",
       " 19.543,\n",
       " 19.118,\n",
       " 18.055999999999997,\n",
       " 14.187999999999999,\n",
       " 17.916,\n",
       " 18.615,\n",
       " 19.31,\n",
       " 13.123,\n",
       " 19.192,\n",
       " 20.09,\n",
       " 19.061,\n",
       " 18.234,\n",
       " 15.255,\n",
       " 18.587,\n",
       " 19.682000000000002,\n",
       " 18.368,\n",
       " 19.57,\n",
       " 19.294,\n",
       " 17.749000000000002,\n",
       " 17.744,\n",
       " 19.180999999999997,\n",
       " 14.472000000000001,\n",
       " 20.005,\n",
       " 18.905,\n",
       " 17.18,\n",
       " 18.04,\n",
       " 17.99,\n",
       " 19.173,\n",
       " 8.37,\n",
       " 17.35,\n",
       " 19.044,\n",
       " 18.16,\n",
       " 18.116,\n",
       " 18.127,\n",
       " 18.746,\n",
       " 16.78,\n",
       " 19.504,\n",
       " 17.96,\n",
       " 18.026,\n",
       " 18.092,\n",
       " 19.302,\n",
       " 17.747,\n",
       " 18.253,\n",
       " 19.663,\n",
       " 18.88,\n",
       " 106.14399999999999,\n",
       " 17.958,\n",
       " 18.715999999999998,\n",
       " 13.027000000000001,\n",
       " 19.975,\n",
       " 19.502,\n",
       " 18.604,\n",
       " 18.125,\n",
       " 17.985,\n",
       " 17.963,\n",
       " 19.83,\n",
       " 18.185,\n",
       " 18.804000000000002,\n",
       " 21.462,\n",
       " 19.68,\n",
       " 19.157,\n",
       " 17.632,\n",
       " 17.93,\n",
       " 18.847,\n",
       " 18.059,\n",
       " 18.637,\n",
       " 19.493,\n",
       " 17.105999999999998,\n",
       " 19.387,\n",
       " 19.592,\n",
       " 15.085999999999999,\n",
       " 19.409000000000002,\n",
       " 17.029,\n",
       " 19.277,\n",
       " 17.936,\n",
       " 19.967,\n",
       " 16.115,\n",
       " 19.483,\n",
       " 19.351,\n",
       " 16.925,\n",
       " 19.584,\n",
       " 14.913,\n",
       " 18.136,\n",
       " 20.063,\n",
       " 20.14,\n",
       " 17.73,\n",
       " 19.320999999999998,\n",
       " 19.176,\n",
       " 17.333,\n",
       " 17.136,\n",
       " 19.496,\n",
       " 103.71,\n",
       " 19.973,\n",
       " 18.505,\n",
       " 18.007,\n",
       " 18.119,\n",
       " 19.209,\n",
       " 17.593,\n",
       " 18.642,\n",
       " 19.233,\n",
       " 19.472,\n",
       " 18.034000000000002,\n",
       " 15.198,\n",
       " 106.3,\n",
       " 19.269000000000002,\n",
       " 19.389,\n",
       " 21.268,\n",
       " 17.489,\n",
       " 17.442999999999998,\n",
       " 19.283,\n",
       " 17.613,\n",
       " 8.441,\n",
       " 19.977999999999998,\n",
       " 17.791,\n",
       " 17.604,\n",
       " 18.407,\n",
       " 19.565,\n",
       " 19.362000000000002,\n",
       " 18.962,\n",
       " 17.752,\n",
       " 17.7,\n",
       " 19.825,\n",
       " 19.674,\n",
       " 19.491,\n",
       " 17.095,\n",
       " 17.727999999999998,\n",
       " 5.194,\n",
       " 63.647,\n",
       " 18.188,\n",
       " 17.947,\n",
       " 19.74,\n",
       " 17.451,\n",
       " 18.023,\n",
       " 18.182000000000002,\n",
       " 14.352,\n",
       " 14.716,\n",
       " 19.375999999999998,\n",
       " 14.505,\n",
       " 14.943,\n",
       " 14.105,\n",
       " 19.477,\n",
       " 18.111,\n",
       " 19.469,\n",
       " 13.958,\n",
       " 19.34,\n",
       " 18.075,\n",
       " 17.788,\n",
       " 20.813000000000002,\n",
       " 17.933,\n",
       " 19.410999999999998,\n",
       " 17.949,\n",
       " 105.054,\n",
       " 19.398,\n",
       " 18.01,\n",
       " 17.662,\n",
       " 14.157,\n",
       " 19.288,\n",
       " 19.669,\n",
       " 17.87,\n",
       " 15.127,\n",
       " 18.418,\n",
       " 19.439,\n",
       " 17.673,\n",
       " 14.574000000000002,\n",
       " 16.923,\n",
       " 18.081,\n",
       " 17.955,\n",
       " 19.699,\n",
       " 19.647000000000002,\n",
       " 19.934,\n",
       " 106.54299999999999,\n",
       " 19.715,\n",
       " 19.291,\n",
       " 106.324,\n",
       " 17.878,\n",
       " 19.551,\n",
       " 18.168,\n",
       " 19.474,\n",
       " 20.208,\n",
       " 106.18799999999999,\n",
       " 17.81,\n",
       " 17.974,\n",
       " 19.444000000000003,\n",
       " 18.146,\n",
       " 19.485,\n",
       " 22.678,\n",
       " 19.6,\n",
       " 17.254,\n",
       " 19.923,\n",
       " 17.405,\n",
       " 19.430999999999997,\n",
       " 21.895,\n",
       " 18.086,\n",
       " 17.615,\n",
       " 20.304000000000002,\n",
       " 18.927,\n",
       " 14.53,\n",
       " 19.37,\n",
       " 19.822,\n",
       " 15.200999999999999,\n",
       " 18.1,\n",
       " 16.999000000000002,\n",
       " 18.004,\n",
       " 17.938,\n",
       " 22.56,\n",
       " 19.874000000000002,\n",
       " 19.732,\n",
       " 19.518,\n",
       " 18.166,\n",
       " 19.844,\n",
       " 19.628,\n",
       " 17.317,\n",
       " 104.134,\n",
       " 19.507,\n",
       " 20.704,\n",
       " 6.297000000000001,\n",
       " 19.365,\n",
       " 19.546,\n",
       " 19.326,\n",
       " 20.011,\n",
       " 20.167,\n",
       " 106.916,\n",
       " 20.085,\n",
       " 18.945999999999998,\n",
       " 16.047,\n",
       " 17.848,\n",
       " 8.323,\n",
       " 78.018,\n",
       " 19.576,\n",
       " 8.402000000000001,\n",
       " 18.144000000000002,\n",
       " 17.41,\n",
       " 19.258,\n",
       " 19.521,\n",
       " 20.413,\n",
       " 19.658,\n",
       " 19.63,\n",
       " 14.549000000000001,\n",
       " 56.928000000000004,\n",
       " 20.019000000000002,\n",
       " 19.524,\n",
       " 17.988,\n",
       " 19.713,\n",
       " 106.61200000000001,\n",
       " 106.749,\n",
       " 19.274,\n",
       " 17.999000000000002,\n",
       " 19.414,\n",
       " 61.035,\n",
       " 19.797,\n",
       " 19.335,\n",
       " 19.458,\n",
       " 19.814,\n",
       " 16.977,\n",
       " 20.83,\n",
       " 17.829,\n",
       " 19.893,\n",
       " 14.962,\n",
       " 17.914,\n",
       " 19.723,\n",
       " 19.316,\n",
       " 19.617,\n",
       " 17.561,\n",
       " 20.656999999999996,\n",
       " 20.476,\n",
       " 8.594,\n",
       " 25.406999999999996,\n",
       " 19.272000000000002,\n",
       " 19.422,\n",
       " 17.889,\n",
       " 20.041,\n",
       " 17.618,\n",
       " 19.357,\n",
       " 19.65,\n",
       " 15.168,\n",
       " 14.76,\n",
       " 20.203,\n",
       " 19.759,\n",
       " 18.137999999999998,\n",
       " 14.425999999999998,\n",
       " 17.429000000000002,\n",
       " 17.191,\n",
       " 22.932,\n",
       " 17.314,\n",
       " 19.611,\n",
       " 17.448,\n",
       " 19.578,\n",
       " 17.979,\n",
       " 19.452,\n",
       " 19.71,\n",
       " 17.832,\n",
       " 17.837,\n",
       " 22.701999999999998,\n",
       " 17.971,\n",
       " 19.789,\n",
       " 106.79799999999999,\n",
       " 19.912,\n",
       " 106.06200000000001,\n",
       " 19.587,\n",
       " 20.142,\n",
       " 37.336,\n",
       " 19.608,\n",
       " 106.264,\n",
       " 20.244,\n",
       " 19.535,\n",
       " 19.436,\n",
       " 19.332,\n",
       " 20.104,\n",
       " 12.35,\n",
       " 19.849,\n",
       " 21.525,\n",
       " 62.795,\n",
       " 17.884,\n",
       " 19.828,\n",
       " 106.281,\n",
       " 17.941,\n",
       " 46.341,\n",
       " 17.807000000000002,\n",
       " 17.651,\n",
       " 19.726,\n",
       " 19.381,\n",
       " 20.175,\n",
       " 45.331,\n",
       " 17.552,\n",
       " 19.808,\n",
       " 18.094,\n",
       " 14.765,\n",
       " 19.785999999999998,\n",
       " 18.031,\n",
       " 16.044,\n",
       " 14.557,\n",
       " 19.951,\n",
       " 17.771,\n",
       " 37.53,\n",
       " 106.07,\n",
       " 8.361,\n",
       " 23.94,\n",
       " 106.73,\n",
       " 23.014,\n",
       " 19.811,\n",
       " 20.331,\n",
       " 19.641,\n",
       " 19.743,\n",
       " 17.741,\n",
       " 20.219,\n",
       " 15.350999999999999,\n",
       " 8.498,\n",
       " 22.842,\n",
       " 17.993,\n",
       " 19.737000000000002,\n",
       " 19.695999999999998,\n",
       " 17.58,\n",
       " 19.8,\n",
       " 17.566,\n",
       " 17.528,\n",
       " 19.639,\n",
       " 19.45,\n",
       " 18.07,\n",
       " 20.172,\n",
       " 23.506999999999998,\n",
       " 19.368,\n",
       " 15.242,\n",
       " 20.115,\n",
       " 106.24799999999999,\n",
       " 106.631,\n",
       " 17.823,\n",
       " 105.947,\n",
       " 20.611,\n",
       " 17.407,\n",
       " 20.033,\n",
       " 17.394000000000002,\n",
       " 27.386999999999997,\n",
       " 5.4510000000000005,\n",
       " 106.439,\n",
       " 14.919,\n",
       " 17.52,\n",
       " 14.138,\n",
       " 21.64,\n",
       " 17.476,\n",
       " 106.76,\n",
       " 19.42,\n",
       " 17.684,\n",
       " 17.78,\n",
       " 19.691,\n",
       " 19.625,\n",
       " 20.361,\n",
       " 19.926,\n",
       " 17.910999999999998,\n",
       " 8.808,\n",
       " 19.581,\n",
       " 19.995,\n",
       " 17.569000000000003,\n",
       " 9.079,\n",
       " 18.048,\n",
       " 17.53,\n",
       " 17.602,\n",
       " 17.415,\n",
       " 17.897000000000002,\n",
       " 17.457,\n",
       " 17.366,\n",
       " 17.676,\n",
       " 17.755,\n",
       " 17.248,\n",
       " 17.355,\n",
       " 17.736,\n",
       " 17.762999999999998,\n",
       " 17.322,\n",
       " 17.454,\n",
       " 17.563,\n",
       " 17.399,\n",
       " 17.04,\n",
       " 16.37,\n",
       " 17.292,\n",
       " 17.624000000000002,\n",
       " 17.802,\n",
       " 17.667,\n",
       " 17.268,\n",
       " 17.238,\n",
       " 17.194000000000003,\n",
       " 17.903,\n",
       " 17.257,\n",
       " 17.722,\n",
       " 16.526,\n",
       " 17.585,\n",
       " 17.582,\n",
       " 17.645,\n",
       " 17.656,\n",
       " 17.347,\n",
       " 17.864,\n",
       " 17.643,\n",
       " 17.927,\n",
       " 17.892,\n",
       " 17.344,\n",
       " 17.421,\n",
       " 16.131,\n",
       " 17.279,\n",
       " 17.717,\n",
       " 17.462,\n",
       " 17.944000000000003,\n",
       " 17.67,\n",
       " 17.459,\n",
       " 17.799,\n",
       " 17.311,\n",
       " 17.246,\n",
       " 17.339000000000002,\n",
       " 17.590999999999998,\n",
       " 17.287,\n",
       " 17.3,\n",
       " 17.881,\n",
       " 17.733,\n",
       " 17.922,\n",
       " 17.873,\n",
       " 17.766,\n",
       " 17.908,\n",
       " 17.484,\n",
       " 16.934,\n",
       " 17.793,\n",
       " 17.185,\n",
       " 17.9,\n",
       " 17.27,\n",
       " 17.303,\n",
       " 17.599,\n",
       " 17.372,\n",
       " 17.625999999999998,\n",
       " 20.23,\n",
       " 17.659000000000002,\n",
       " 106.62799999999999,\n",
       " 14.502,\n",
       " 17.774,\n",
       " 17.875,\n",
       " 17.352,\n",
       " 17.358,\n",
       " 17.5,\n",
       " 17.336,\n",
       " 17.867,\n",
       " 16.734,\n",
       " 17.695,\n",
       " 17.44,\n",
       " 17.391,\n",
       " 17.435,\n",
       " 17.492,\n",
       " 17.477999999999998,\n",
       " 17.383,\n",
       " 17.008,\n",
       " ...]"
      ]
     },
     "execution_count": 17,
     "metadata": {},
     "output_type": "execute_result"
    }
   ],
   "source": [
    "lista"
   ]
  },
  {
   "cell_type": "code",
   "execution_count": 14,
   "metadata": {},
   "outputs": [
    {
     "data": {
      "text/plain": [
       "nan"
      ]
     },
     "execution_count": 14,
     "metadata": {},
     "output_type": "execute_result"
    }
   ],
   "source": [
    "data.age = data.age.apply(lambda x: x if x in lista else data.age.mean)"
   ]
  },
  {
   "cell_type": "markdown",
   "metadata": {},
   "source": [
    "## 2. Data Visualization\n",
    "\n",
    "Now that the data is more or less fixed, plot some charts to understand better how it is composed:  \n",
    "* Check distribution of variables - do we have outliers? What should we do with them?\n",
    "* Understand which features are correlated - do they represent the same? Which ones should we keep?\n",
    "* When we compare two variables, is it possible to see groups in the data?\n",
    "* Given the dimension of the dataset, would it be useful to perform dimension reduction in some variables? Which ones would you group?\n",
    "\n",
    "Comment your ideas based on the visualizations you made and other data exploration. What will be your next steps before modeling?"
   ]
  },
  {
   "cell_type": "code",
   "execution_count": 4,
   "metadata": {},
   "outputs": [
    {
     "data": {
      "text/plain": [
       "<AxesSubplot:>"
      ]
     },
     "execution_count": 4,
     "metadata": {},
     "output_type": "execute_result"
    },
    {
     "data": {
      "image/png": "[encoded data removed]",
      "text/plain": [
       "<Figure size 432x288 with 2 Axes>"
      ]
     },
     "metadata": {
      "needs_background": "light"
     },
     "output_type": "display_data"
    }
   ],
   "source": [
    "#Your code here:\n",
    "sns.heatmap(data.corr())"
   ]
  },
  {
   "cell_type": "code",
   "execution_count": 10,
   "metadata": {},
   "outputs": [
    {
     "data": {
      "image/png": "[encoded data removed]",
      "text/plain": [
       "<Figure size 432x288 with 1 Axes>"
      ]
     },
     "metadata": {
      "needs_background": "light"
     },
     "output_type": "display_data"
    },
    {
     "data": {
      "image/png": "[encoded data removed]",
      "text/plain": [
       "<Figure size 432x288 with 1 Axes>"
      ]
     },
     "metadata": {
      "needs_background": "light"
     },
     "output_type": "display_data"
    },
    {
     "data": {
      "image/png": "[encoded data removed]",
      "text/plain": [
       "<Figure size 432x288 with 1 Axes>"
      ]
     },
     "metadata": {
      "needs_background": "light"
     },
     "output_type": "display_data"
    },
    {
     "data": {
      "image/png": "[encoded data removed]",
      "text/plain": [
       "<Figure size 432x288 with 1 Axes>"
      ]
     },
     "metadata": {
      "needs_background": "light"
     },
     "output_type": "display_data"
    },
    {
     "data": {
      "image/png": "[encoded data removed]",
      "text/plain": [
       "<Figure size 432x288 with 1 Axes>"
      ]
     },
     "metadata": {
      "needs_background": "light"
     },
     "output_type": "display_data"
    },
    {
     "data": {
      "image/png": "[encoded data removed]",
      "text/plain": [
       "<Figure size 432x288 with 1 Axes>"
      ]
     },
     "metadata": {
      "needs_background": "light"
     },
     "output_type": "display_data"
    },
    {
     "data": {
      "image/png": "[encoded data removed]",
      "text/plain": [
       "<Figure size 432x288 with 1 Axes>"
      ]
     },
     "metadata": {
      "needs_background": "light"
     },
     "output_type": "display_data"
    },
    {
     "data": {
      "image/png": "[encoded data removed]",
      "text/plain": [
       "<Figure size 432x288 with 1 Axes>"
      ]
     },
     "metadata": {
      "needs_background": "light"
     },
     "output_type": "display_data"
    },
    {
     "data": {
      "image/png": "[encoded data removed]",
      "text/plain": [
       "<Figure size 432x288 with 1 Axes>"
      ]
     },
     "metadata": {
      "needs_background": "light"
     },
     "output_type": "display_data"
    },
    {
     "data": {
      "image/png": "[encoded data removed]",
      "text/plain": [
       "<Figure size 432x288 with 1 Axes>"
      ]
     },
     "metadata": {
      "needs_background": "light"
     },
     "output_type": "display_data"
    },
    {
     "data": {
      "image/png": "[encoded data removed]",
      "text/plain": [
       "<Figure size 432x288 with 1 Axes>"
      ]
     },
     "metadata": {
      "needs_background": "light"
     },
     "output_type": "display_data"
    },
    {
     "data": {
      "image/png": "[encoded data removed]",
      "text/plain": [
       "<Figure size 432x288 with 1 Axes>"
      ]
     },
     "metadata": {
      "needs_background": "light"
     },
     "output_type": "display_data"
    },
    {
     "data": {
      "image/png": "[encoded data removed]",
      "text/plain": [
       "<Figure size 432x288 with 1 Axes>"
      ]
     },
     "metadata": {
      "needs_background": "light"
     },
     "output_type": "display_data"
    },
    {
     "data": {
      "image/png": "[encoded data removed]",
      "text/plain": [
       "<Figure size 432x288 with 1 Axes>"
      ]
     },
     "metadata": {
      "needs_background": "light"
     },
     "output_type": "display_data"
    },
    {
     "data": {
      "image/png": "[encoded data removed]",
      "text/plain": [
       "<Figure size 432x288 with 1 Axes>"
      ]
     },
     "metadata": {
      "needs_background": "light"
     },
     "output_type": "display_data"
    },
    {
     "data": {
      "image/png": "[encoded data removed]",
      "text/plain": [
       "<Figure size 432x288 with 1 Axes>"
      ]
     },
     "metadata": {
      "needs_background": "light"
     },
     "output_type": "display_data"
    },
    {
     "data": {
      "image/png": "[encoded data removed]",
      "text/plain": [
       "<Figure size 432x288 with 1 Axes>"
      ]
     },
     "metadata": {
      "needs_background": "light"
     },
     "output_type": "display_data"
    },
    {
     "data": {
      "image/png": "[encoded data removed]",
      "text/plain": [
       "<Figure size 432x288 with 1 Axes>"
      ]
     },
     "metadata": {
      "needs_background": "light"
     },
     "output_type": "display_data"
    },
    {
     "data": {
      "image/png": "[encoded data removed]",
      "text/plain": [
       "<Figure size 432x288 with 1 Axes>"
      ]
     },
     "metadata": {
      "needs_background": "light"
     },
     "output_type": "display_data"
    },
    {
     "data": {
      "image/png": "[encoded data removed]",
      "text/plain": [
       "<Figure size 432x288 with 1 Axes>"
      ]
     },
     "metadata": {
      "needs_background": "light"
     },
     "output_type": "display_data"
    },
    {
     "data": {
      "image/png": "[encoded data removed]",
      "text/plain": [
       "<Figure size 432x288 with 1 Axes>"
      ]
     },
     "metadata": {
      "needs_background": "light"
     },
     "output_type": "display_data"
    },
    {
     "data": {
      "image/png": "[encoded data removed]",
      "text/plain": [
       "<Figure size 432x288 with 1 Axes>"
      ]
     },
     "metadata": {
      "needs_background": "light"
     },
     "output_type": "display_data"
    },
    {
     "data": {
      "image/png": "[encoded data removed]",
      "text/plain": [
       "<Figure size 432x288 with 1 Axes>"
      ]
     },
     "metadata": {
      "needs_background": "light"
     },
     "output_type": "display_data"
    },
    {
     "data": {
      "image/png": "[encoded data removed]",
      "text/plain": [
       "<Figure size 432x288 with 1 Axes>"
      ]
     },
     "metadata": {
      "needs_background": "light"
     },
     "output_type": "display_data"
    },
    {
     "data": {
      "image/png": "[encoded data removed]",
      "text/plain": [
       "<Figure size 432x288 with 1 Axes>"
      ]
     },
     "metadata": {
      "needs_background": "light"
     },
     "output_type": "display_data"
    },
    {
     "data": {
      "image/png": "[encoded data removed]",
      "text/plain": [
       "<Figure size 432x288 with 1 Axes>"
      ]
     },
     "metadata": {
      "needs_background": "light"
     },
     "output_type": "display_data"
    },
    {
     "data": {
      "image/png": "[encoded data removed]",
      "text/plain": [
       "<Figure size 432x288 with 1 Axes>"
      ]
     },
     "metadata": {
      "needs_background": "light"
     },
     "output_type": "display_data"
    },
    {
     "data": {
      "image/png": "[encoded data removed]",
      "text/plain": [
       "<Figure size 432x288 with 1 Axes>"
      ]
     },
     "metadata": {
      "needs_background": "light"
     },
     "output_type": "display_data"
    },
    {
     "data": {
      "image/png": "[encoded data removed]",
      "text/plain": [
       "<Figure size 432x288 with 1 Axes>"
      ]
     },
     "metadata": {
      "needs_background": "light"
     },
     "output_type": "display_data"
    },
    {
     "data": {
      "image/png": "[encoded data removed]",
      "text/plain": [
       "<Figure size 432x288 with 1 Axes>"
      ]
     },
     "metadata": {
      "needs_background": "light"
     },
     "output_type": "display_data"
    },
    {
     "data": {
      "image/png": "[encoded data removed]",
      "text/plain": [
       "<Figure size 432x288 with 1 Axes>"
      ]
     },
     "metadata": {
      "needs_background": "light"
     },
     "output_type": "display_data"
    },
    {
     "data": {
      "image/png": "[encoded data removed]",
      "text/plain": [
       "<Figure size 432x288 with 1 Axes>"
      ]
     },
     "metadata": {
      "needs_background": "light"
     },
     "output_type": "display_data"
    },
    {
     "data": {
      "image/png": "[encoded data removed]",
      "text/plain": [
       "<Figure size 432x288 with 1 Axes>"
      ]
     },
     "metadata": {
      "needs_background": "light"
     },
     "output_type": "display_data"
    },
    {
     "data": {
      "image/png": "[encoded data removed]",
      "text/plain": [
       "<Figure size 432x288 with 1 Axes>"
      ]
     },
     "metadata": {
      "needs_background": "light"
     },
     "output_type": "display_data"
    },
    {
     "data": {
      "image/png": "[encoded data removed]",
      "text/plain": [
       "<Figure size 432x288 with 1 Axes>"
      ]
     },
     "metadata": {
      "needs_background": "light"
     },
     "output_type": "display_data"
    },
    {
     "data": {
      "image/png": "[encoded data removed]",
      "text/plain": [
       "<Figure size 432x288 with 1 Axes>"
      ]
     },
     "metadata": {
      "needs_background": "light"
     },
     "output_type": "display_data"
    },
    {
     "data": {
      "image/png": "[encoded data removed]",
      "text/plain": [
       "<Figure size 432x288 with 1 Axes>"
      ]
     },
     "metadata": {
      "needs_background": "light"
     },
     "output_type": "display_data"
    },
    {
     "data": {
      "image/png": "[encoded data removed]",
      "text/plain": [
       "<Figure size 432x288 with 1 Axes>"
      ]
     },
     "metadata": {
      "needs_background": "light"
     },
     "output_type": "display_data"
    },
    {
     "data": {
      "image/png": "[encoded data removed]",
      "text/plain": [
       "<Figure size 432x288 with 1 Axes>"
      ]
     },
     "metadata": {
      "needs_background": "light"
     },
     "output_type": "display_data"
    }
   ],
   "source": [
    "for column in data.columns: \n",
    "    if data[column].dtype != 'object':\n",
    "        plt.boxplot(data[column])\n",
    "        plt.title(str(column))\n",
    "        plt.show()"
   ]
  },
  {
   "cell_type": "markdown",
   "metadata": {},
   "source": [
    "## 3. Feature Engineering\n",
    "\n",
    "Based on your previous conclusions, perform transformations in your features. Think about:  \n",
    "* Category Encoding\n",
    "* Outliers & Standardization\n",
    "* Dimension Reduction\n",
    "* Discard features that are less relevant to group the data\n",
    "\n",
    "Why did you choose each method? Please explain your rationale."
   ]
  },
  {
   "cell_type": "code",
   "execution_count": 11,
   "metadata": {},
   "outputs": [
    {
     "data": {
      "text/html": [
       "<div>\n",
       "<style scoped>\n",
       "    .dataframe tbody tr th:only-of-type {\n",
       "        vertical-align: middle;\n",
       "    }\n",
       "\n",
       "    .dataframe tbody tr th {\n",
       "        vertical-align: top;\n",
       "    }\n",
       "\n",
       "    .dataframe thead th {\n",
       "        text-align: right;\n",
       "    }\n",
       "</style>\n",
       "<table border=\"1\" class=\"dataframe\">\n",
       "  <thead>\n",
       "    <tr style=\"text-align: right;\">\n",
       "      <th></th>\n",
       "      <th>gradyear</th>\n",
       "      <th>gender</th>\n",
       "      <th>age</th>\n",
       "      <th>friends</th>\n",
       "      <th>basketball</th>\n",
       "      <th>football</th>\n",
       "      <th>soccer</th>\n",
       "      <th>softball</th>\n",
       "      <th>volleyball</th>\n",
       "      <th>swimming</th>\n",
       "      <th>...</th>\n",
       "      <th>blonde</th>\n",
       "      <th>mall</th>\n",
       "      <th>shopping</th>\n",
       "      <th>clothes</th>\n",
       "      <th>hollister</th>\n",
       "      <th>abercrombie</th>\n",
       "      <th>die</th>\n",
       "      <th>death</th>\n",
       "      <th>drunk</th>\n",
       "      <th>drugs</th>\n",
       "    </tr>\n",
       "  </thead>\n",
       "  <tbody>\n",
       "    <tr>\n",
       "      <th>0</th>\n",
       "      <td>2006</td>\n",
       "      <td>0</td>\n",
       "      <td>18.982</td>\n",
       "      <td>7</td>\n",
       "      <td>0</td>\n",
       "      <td>0</td>\n",
       "      <td>0</td>\n",
       "      <td>0</td>\n",
       "      <td>0</td>\n",
       "      <td>0</td>\n",
       "      <td>...</td>\n",
       "      <td>0</td>\n",
       "      <td>0</td>\n",
       "      <td>0</td>\n",
       "      <td>0</td>\n",
       "      <td>0</td>\n",
       "      <td>0</td>\n",
       "      <td>0</td>\n",
       "      <td>0</td>\n",
       "      <td>0</td>\n",
       "      <td>0</td>\n",
       "    </tr>\n",
       "    <tr>\n",
       "      <th>1</th>\n",
       "      <td>2006</td>\n",
       "      <td>1</td>\n",
       "      <td>18.801</td>\n",
       "      <td>0</td>\n",
       "      <td>0</td>\n",
       "      <td>1</td>\n",
       "      <td>0</td>\n",
       "      <td>0</td>\n",
       "      <td>0</td>\n",
       "      <td>0</td>\n",
       "      <td>...</td>\n",
       "      <td>0</td>\n",
       "      <td>1</td>\n",
       "      <td>0</td>\n",
       "      <td>0</td>\n",
       "      <td>0</td>\n",
       "      <td>0</td>\n",
       "      <td>0</td>\n",
       "      <td>0</td>\n",
       "      <td>0</td>\n",
       "      <td>0</td>\n",
       "    </tr>\n",
       "  </tbody>\n",
       "</table>\n",
       "<p>2 rows × 40 columns</p>\n",
       "</div>"
      ],
      "text/plain": [
       "   gradyear  gender     age  friends  basketball  football  soccer  softball  \\\n",
       "0      2006       0  18.982        7           0         0       0         0   \n",
       "1      2006       1  18.801        0           0         1       0         0   \n",
       "\n",
       "   volleyball  swimming  ...  blonde  mall  shopping  clothes  hollister  \\\n",
       "0           0         0  ...       0     0         0        0          0   \n",
       "1           0         0  ...       0     1         0        0          0   \n",
       "\n",
       "   abercrombie  die  death  drunk  drugs  \n",
       "0            0    0      0      0      0  \n",
       "1            0    0      0      0      0  \n",
       "\n",
       "[2 rows x 40 columns]"
      ]
     },
     "execution_count": 11,
     "metadata": {},
     "output_type": "execute_result"
    }
   ],
   "source": [
    "#cambiamoscolumnas categoricas\n",
    "data['gender'] = pd.get_dummies(data['gender'])\n",
    "data.head(2)"
   ]
  },
  {
   "cell_type": "code",
   "execution_count": 12,
   "metadata": {},
   "outputs": [
    {
     "data": {
      "text/plain": [
       "nan"
      ]
     },
     "execution_count": 12,
     "metadata": {},
     "output_type": "execute_result"
    }
   ],
   "source": [
    "#revisaos el rengo intercuartile\n",
    "q1 = np.percentile(data['age'],25)\n",
    "q3 = np.percentile(data['age'],75)\n",
    "iqr = q3 - q1\n",
    "iqr"
   ]
  },
  {
   "cell_type": "code",
   "execution_count": 13,
   "metadata": {},
   "outputs": [],
   "source": [
    "#usamos una funcion que clasifica los intercuartiles\n",
    "def outliers (x):\n",
    "    if (x > q3 + (iqr * 1.5)) or (x < q1 - (iqr * 1.5)):\n",
    "        return 'outlier'\n",
    "    else:\n",
    "        return(x)"
   ]
  },
  {
   "cell_type": "code",
   "execution_count": 18,
   "metadata": {},
   "outputs": [],
   "source": [
    "import math"
   ]
  },
  {
   "cell_type": "code",
   "execution_count": 19,
   "metadata": {},
   "outputs": [
    {
     "data": {
      "text/plain": [
       "<AxesSubplot:>"
      ]
     },
     "execution_count": 19,
     "metadata": {},
     "output_type": "execute_result"
    },
    {
     "data": {
      "image/png": "[encoded data removed]",
      "text/plain": [
       "<Figure size 432x288 with 1 Axes>"
      ]
     },
     "metadata": {
      "needs_background": "light"
     },
     "output_type": "display_data"
    }
   ],
   "source": [
    "#remplazamos outlaiers por el promedio de edad\n",
    "data_p = data.copy()\n",
    "data_p['age'] = data['age'].apply(outliers)\n",
    "data_p['age'] = data_p['age'].replace('outlier', math.floor(data['age'].mean()))\n",
    "data_p['age'].hist()"
   ]
  },
  {
   "cell_type": "code",
   "execution_count": 20,
   "metadata": {},
   "outputs": [],
   "source": [
    "columnas = ['gradyear', 'age', 'friends', 'basketball', 'football',\n",
    "       'soccer', 'softball', 'volleyball', 'swimming', 'cheerleading',\n",
    "       'baseball', 'tennis', 'sports', 'cute', 'sex', 'sexy', 'hot', 'kissed',\n",
    "       'dance', 'band', 'marching', 'music', 'rock', 'god', 'church', 'jesus',\n",
    "       'bible', 'hair', 'dress', 'blonde', 'mall', 'shopping', 'clothes',\n",
    "       'hollister', 'abercrombie', 'die', 'death', 'drunk', 'drugs']"
   ]
  },
  {
   "cell_type": "code",
   "execution_count": 23,
   "metadata": {},
   "outputs": [
    {
     "data": {
      "text/html": [
       "<div>\n",
       "<style scoped>\n",
       "    .dataframe tbody tr th:only-of-type {\n",
       "        vertical-align: middle;\n",
       "    }\n",
       "\n",
       "    .dataframe tbody tr th {\n",
       "        vertical-align: top;\n",
       "    }\n",
       "\n",
       "    .dataframe thead th {\n",
       "        text-align: right;\n",
       "    }\n",
       "</style>\n",
       "<table border=\"1\" class=\"dataframe\">\n",
       "  <thead>\n",
       "    <tr style=\"text-align: right;\">\n",
       "      <th></th>\n",
       "      <th>gradyear</th>\n",
       "      <th>gender</th>\n",
       "      <th>age</th>\n",
       "      <th>friends</th>\n",
       "      <th>basketball</th>\n",
       "      <th>football</th>\n",
       "      <th>soccer</th>\n",
       "      <th>softball</th>\n",
       "      <th>volleyball</th>\n",
       "      <th>swimming</th>\n",
       "      <th>...</th>\n",
       "      <th>blonde</th>\n",
       "      <th>mall</th>\n",
       "      <th>shopping</th>\n",
       "      <th>clothes</th>\n",
       "      <th>hollister</th>\n",
       "      <th>abercrombie</th>\n",
       "      <th>die</th>\n",
       "      <th>death</th>\n",
       "      <th>drunk</th>\n",
       "      <th>drugs</th>\n",
       "    </tr>\n",
       "  </thead>\n",
       "  <tbody>\n",
       "    <tr>\n",
       "      <th>0</th>\n",
       "      <td>-1.341641</td>\n",
       "      <td>0</td>\n",
       "      <td>0.125740</td>\n",
       "      <td>-0.634528</td>\n",
       "      <td>-0.332217</td>\n",
       "      <td>-0.357697</td>\n",
       "      <td>-0.242874</td>\n",
       "      <td>-0.217928</td>\n",
       "      <td>-0.22367</td>\n",
       "      <td>-0.259971</td>\n",
       "      <td>...</td>\n",
       "      <td>-0.050937</td>\n",
       "      <td>-0.369915</td>\n",
       "      <td>-0.487314</td>\n",
       "      <td>-0.314198</td>\n",
       "      <td>-0.201476</td>\n",
       "      <td>-0.183032</td>\n",
       "      <td>-0.294793</td>\n",
       "      <td>-0.261530</td>\n",
       "      <td>-0.220403</td>\n",
       "      <td>-0.174908</td>\n",
       "    </tr>\n",
       "    <tr>\n",
       "      <th>1</th>\n",
       "      <td>-1.341641</td>\n",
       "      <td>1</td>\n",
       "      <td>0.102706</td>\n",
       "      <td>-0.826150</td>\n",
       "      <td>-0.332217</td>\n",
       "      <td>1.060049</td>\n",
       "      <td>-0.242874</td>\n",
       "      <td>-0.217928</td>\n",
       "      <td>-0.22367</td>\n",
       "      <td>-0.259971</td>\n",
       "      <td>...</td>\n",
       "      <td>-0.050937</td>\n",
       "      <td>1.067392</td>\n",
       "      <td>-0.487314</td>\n",
       "      <td>-0.314198</td>\n",
       "      <td>-0.201476</td>\n",
       "      <td>-0.183032</td>\n",
       "      <td>-0.294793</td>\n",
       "      <td>-0.261530</td>\n",
       "      <td>-0.220403</td>\n",
       "      <td>-0.174908</td>\n",
       "    </tr>\n",
       "    <tr>\n",
       "      <th>2</th>\n",
       "      <td>-1.341641</td>\n",
       "      <td>0</td>\n",
       "      <td>0.043402</td>\n",
       "      <td>1.062695</td>\n",
       "      <td>-0.332217</td>\n",
       "      <td>1.060049</td>\n",
       "      <td>-0.242874</td>\n",
       "      <td>-0.217928</td>\n",
       "      <td>-0.22367</td>\n",
       "      <td>-0.259971</td>\n",
       "      <td>...</td>\n",
       "      <td>-0.050937</td>\n",
       "      <td>-0.369915</td>\n",
       "      <td>-0.487314</td>\n",
       "      <td>-0.314198</td>\n",
       "      <td>-0.201476</td>\n",
       "      <td>-0.183032</td>\n",
       "      <td>-0.294793</td>\n",
       "      <td>2.027908</td>\n",
       "      <td>-0.220403</td>\n",
       "      <td>-0.174908</td>\n",
       "    </tr>\n",
       "    <tr>\n",
       "      <th>3</th>\n",
       "      <td>-1.341641</td>\n",
       "      <td>1</td>\n",
       "      <td>0.112123</td>\n",
       "      <td>-0.826150</td>\n",
       "      <td>-0.332217</td>\n",
       "      <td>-0.357697</td>\n",
       "      <td>-0.242874</td>\n",
       "      <td>-0.217928</td>\n",
       "      <td>-0.22367</td>\n",
       "      <td>-0.259971</td>\n",
       "      <td>...</td>\n",
       "      <td>-0.050937</td>\n",
       "      <td>-0.369915</td>\n",
       "      <td>-0.487314</td>\n",
       "      <td>-0.314198</td>\n",
       "      <td>-0.201476</td>\n",
       "      <td>-0.183032</td>\n",
       "      <td>-0.294793</td>\n",
       "      <td>-0.261530</td>\n",
       "      <td>-0.220403</td>\n",
       "      <td>-0.174908</td>\n",
       "    </tr>\n",
       "    <tr>\n",
       "      <th>4</th>\n",
       "      <td>-1.341641</td>\n",
       "      <td>0</td>\n",
       "      <td>0.127394</td>\n",
       "      <td>-0.552404</td>\n",
       "      <td>-0.332217</td>\n",
       "      <td>-0.357697</td>\n",
       "      <td>-0.242874</td>\n",
       "      <td>-0.217928</td>\n",
       "      <td>-0.22367</td>\n",
       "      <td>-0.259971</td>\n",
       "      <td>...</td>\n",
       "      <td>-0.050937</td>\n",
       "      <td>-0.369915</td>\n",
       "      <td>2.273673</td>\n",
       "      <td>-0.314198</td>\n",
       "      <td>-0.201476</td>\n",
       "      <td>-0.183032</td>\n",
       "      <td>-0.294793</td>\n",
       "      <td>-0.261530</td>\n",
       "      <td>2.285122</td>\n",
       "      <td>2.719316</td>\n",
       "    </tr>\n",
       "  </tbody>\n",
       "</table>\n",
       "<p>5 rows × 40 columns</p>\n",
       "</div>"
      ],
      "text/plain": [
       "   gradyear  gender       age   friends  basketball  football    soccer  \\\n",
       "0 -1.341641       0  0.125740 -0.634528   -0.332217 -0.357697 -0.242874   \n",
       "1 -1.341641       1  0.102706 -0.826150   -0.332217  1.060049 -0.242874   \n",
       "2 -1.341641       0  0.043402  1.062695   -0.332217  1.060049 -0.242874   \n",
       "3 -1.341641       1  0.112123 -0.826150   -0.332217 -0.357697 -0.242874   \n",
       "4 -1.341641       0  0.127394 -0.552404   -0.332217 -0.357697 -0.242874   \n",
       "\n",
       "   softball  volleyball  swimming  ...    blonde      mall  shopping  \\\n",
       "0 -0.217928    -0.22367 -0.259971  ... -0.050937 -0.369915 -0.487314   \n",
       "1 -0.217928    -0.22367 -0.259971  ... -0.050937  1.067392 -0.487314   \n",
       "2 -0.217928    -0.22367 -0.259971  ... -0.050937 -0.369915 -0.487314   \n",
       "3 -0.217928    -0.22367 -0.259971  ... -0.050937 -0.369915 -0.487314   \n",
       "4 -0.217928    -0.22367 -0.259971  ... -0.050937 -0.369915  2.273673   \n",
       "\n",
       "    clothes  hollister  abercrombie       die     death     drunk     drugs  \n",
       "0 -0.314198  -0.201476    -0.183032 -0.294793 -0.261530 -0.220403 -0.174908  \n",
       "1 -0.314198  -0.201476    -0.183032 -0.294793 -0.261530 -0.220403 -0.174908  \n",
       "2 -0.314198  -0.201476    -0.183032 -0.294793  2.027908 -0.220403 -0.174908  \n",
       "3 -0.314198  -0.201476    -0.183032 -0.294793 -0.261530 -0.220403 -0.174908  \n",
       "4 -0.314198  -0.201476    -0.183032 -0.294793 -0.261530  2.285122  2.719316  \n",
       "\n",
       "[5 rows x 40 columns]"
      ]
     },
     "execution_count": 23,
     "metadata": {},
     "output_type": "execute_result"
    }
   ],
   "source": [
    "\n",
    "scaler = preprocessing.StandardScaler()\n",
    "scaler.fit(data_p[columnas])\n",
    "data_p[columnas] = scaler.transform(data_p[columnas])\n",
    "\n",
    "data_p.head()"
   ]
  },
  {
   "cell_type": "markdown",
   "metadata": {},
   "source": [
    "## 4. Modeling\n",
    "\n",
    "Now that your data is ready, apply one (or more) unsupervised learning model to find the groups of teens that exist:\n",
    "* What model did you choose?\n",
    "* What is the optimal number of clusters?\n",
    "* Once your clusters are defined, how do you interpret them? - What type of teens there are? What are the differences between them?"
   ]
  },
  {
   "cell_type": "code",
   "execution_count": 25,
   "metadata": {},
   "outputs": [
    {
     "ename": "ValueError",
     "evalue": "Input contains NaN, infinity or a value too large for dtype('float64').",
     "output_type": "error",
     "traceback": [
      "\u001b[0;31m---------------------------------------------------------------------------\u001b[0m",
      "\u001b[0;31mValueError\u001b[0m                                Traceback (most recent call last)",
      "\u001b[0;32m<ipython-input-25-37fd5dd7da8f>\u001b[0m in \u001b[0;36m<module>\u001b[0;34m\u001b[0m\n\u001b[1;32m      4\u001b[0m \u001b[0;34m\u001b[0m\u001b[0m\n\u001b[1;32m      5\u001b[0m \u001b[0;32mfor\u001b[0m \u001b[0mk\u001b[0m \u001b[0;32min\u001b[0m \u001b[0mK\u001b[0m\u001b[0;34m:\u001b[0m\u001b[0;34m\u001b[0m\u001b[0;34m\u001b[0m\u001b[0m\n\u001b[0;32m----> 6\u001b[0;31m     \u001b[0mmodel\u001b[0m \u001b[0;34m=\u001b[0m \u001b[0mKMeans\u001b[0m\u001b[0;34m(\u001b[0m\u001b[0mn_clusters\u001b[0m \u001b[0;34m=\u001b[0m \u001b[0mk\u001b[0m\u001b[0;34m)\u001b[0m\u001b[0;34m.\u001b[0m\u001b[0mfit\u001b[0m\u001b[0;34m(\u001b[0m\u001b[0mdata_p\u001b[0m\u001b[0;34m)\u001b[0m\u001b[0;34m\u001b[0m\u001b[0;34m\u001b[0m\u001b[0m\n\u001b[0m\u001b[1;32m      7\u001b[0m     \u001b[0msum_squared_distances\u001b[0m\u001b[0;34m.\u001b[0m\u001b[0mappend\u001b[0m\u001b[0;34m(\u001b[0m\u001b[0mmodel\u001b[0m\u001b[0;34m.\u001b[0m\u001b[0minertia_\u001b[0m\u001b[0;34m)\u001b[0m\u001b[0;34m\u001b[0m\u001b[0;34m\u001b[0m\u001b[0m\n\u001b[1;32m      8\u001b[0m \u001b[0mplt\u001b[0m\u001b[0;34m.\u001b[0m\u001b[0mplot\u001b[0m\u001b[0;34m(\u001b[0m\u001b[0mK\u001b[0m\u001b[0;34m,\u001b[0m \u001b[0msum_squared_distances\u001b[0m\u001b[0;34m,\u001b[0m \u001b[0;34m'bx-'\u001b[0m\u001b[0;34m)\u001b[0m\u001b[0;34m\u001b[0m\u001b[0;34m\u001b[0m\u001b[0m\n",
      "\u001b[0;32m/usr/local/lib/python3.8/site-packages/sklearn/cluster/_kmeans.py\u001b[0m in \u001b[0;36mfit\u001b[0;34m(self, X, y, sample_weight)\u001b[0m\n\u001b[1;32m   1028\u001b[0m             \u001b[0mFitted\u001b[0m \u001b[0mestimator\u001b[0m\u001b[0;34m.\u001b[0m\u001b[0;34m\u001b[0m\u001b[0;34m\u001b[0m\u001b[0m\n\u001b[1;32m   1029\u001b[0m         \"\"\"\n\u001b[0;32m-> 1030\u001b[0;31m         X = self._validate_data(X, accept_sparse='csr',\n\u001b[0m\u001b[1;32m   1031\u001b[0m                                 \u001b[0mdtype\u001b[0m\u001b[0;34m=\u001b[0m\u001b[0;34m[\u001b[0m\u001b[0mnp\u001b[0m\u001b[0;34m.\u001b[0m\u001b[0mfloat64\u001b[0m\u001b[0;34m,\u001b[0m \u001b[0mnp\u001b[0m\u001b[0;34m.\u001b[0m\u001b[0mfloat32\u001b[0m\u001b[0;34m]\u001b[0m\u001b[0;34m,\u001b[0m\u001b[0;34m\u001b[0m\u001b[0;34m\u001b[0m\u001b[0m\n\u001b[1;32m   1032\u001b[0m                                 \u001b[0morder\u001b[0m\u001b[0;34m=\u001b[0m\u001b[0;34m'C'\u001b[0m\u001b[0;34m,\u001b[0m \u001b[0mcopy\u001b[0m\u001b[0;34m=\u001b[0m\u001b[0mself\u001b[0m\u001b[0;34m.\u001b[0m\u001b[0mcopy_x\u001b[0m\u001b[0;34m,\u001b[0m\u001b[0;34m\u001b[0m\u001b[0;34m\u001b[0m\u001b[0m\n",
      "\u001b[0;32m/usr/local/lib/python3.8/site-packages/sklearn/base.py\u001b[0m in \u001b[0;36m_validate_data\u001b[0;34m(self, X, y, reset, validate_separately, **check_params)\u001b[0m\n\u001b[1;32m    418\u001b[0m                     \u001b[0;34mf\"requires y to be passed, but the target y is None.\"\u001b[0m\u001b[0;34m\u001b[0m\u001b[0;34m\u001b[0m\u001b[0m\n\u001b[1;32m    419\u001b[0m                 )\n\u001b[0;32m--> 420\u001b[0;31m             \u001b[0mX\u001b[0m \u001b[0;34m=\u001b[0m \u001b[0mcheck_array\u001b[0m\u001b[0;34m(\u001b[0m\u001b[0mX\u001b[0m\u001b[0;34m,\u001b[0m \u001b[0;34m**\u001b[0m\u001b[0mcheck_params\u001b[0m\u001b[0;34m)\u001b[0m\u001b[0;34m\u001b[0m\u001b[0;34m\u001b[0m\u001b[0m\n\u001b[0m\u001b[1;32m    421\u001b[0m             \u001b[0mout\u001b[0m \u001b[0;34m=\u001b[0m \u001b[0mX\u001b[0m\u001b[0;34m\u001b[0m\u001b[0;34m\u001b[0m\u001b[0m\n\u001b[1;32m    422\u001b[0m         \u001b[0;32melse\u001b[0m\u001b[0;34m:\u001b[0m\u001b[0;34m\u001b[0m\u001b[0;34m\u001b[0m\u001b[0m\n",
      "\u001b[0;32m/usr/local/lib/python3.8/site-packages/sklearn/utils/validation.py\u001b[0m in \u001b[0;36minner_f\u001b[0;34m(*args, **kwargs)\u001b[0m\n\u001b[1;32m     70\u001b[0m                           FutureWarning)\n\u001b[1;32m     71\u001b[0m         \u001b[0mkwargs\u001b[0m\u001b[0;34m.\u001b[0m\u001b[0mupdate\u001b[0m\u001b[0;34m(\u001b[0m\u001b[0;34m{\u001b[0m\u001b[0mk\u001b[0m\u001b[0;34m:\u001b[0m \u001b[0marg\u001b[0m \u001b[0;32mfor\u001b[0m \u001b[0mk\u001b[0m\u001b[0;34m,\u001b[0m \u001b[0marg\u001b[0m \u001b[0;32min\u001b[0m \u001b[0mzip\u001b[0m\u001b[0;34m(\u001b[0m\u001b[0msig\u001b[0m\u001b[0;34m.\u001b[0m\u001b[0mparameters\u001b[0m\u001b[0;34m,\u001b[0m \u001b[0margs\u001b[0m\u001b[0;34m)\u001b[0m\u001b[0;34m}\u001b[0m\u001b[0;34m)\u001b[0m\u001b[0;34m\u001b[0m\u001b[0;34m\u001b[0m\u001b[0m\n\u001b[0;32m---> 72\u001b[0;31m         \u001b[0;32mreturn\u001b[0m \u001b[0mf\u001b[0m\u001b[0;34m(\u001b[0m\u001b[0;34m**\u001b[0m\u001b[0mkwargs\u001b[0m\u001b[0;34m)\u001b[0m\u001b[0;34m\u001b[0m\u001b[0;34m\u001b[0m\u001b[0m\n\u001b[0m\u001b[1;32m     73\u001b[0m     \u001b[0;32mreturn\u001b[0m \u001b[0minner_f\u001b[0m\u001b[0;34m\u001b[0m\u001b[0;34m\u001b[0m\u001b[0m\n\u001b[1;32m     74\u001b[0m \u001b[0;34m\u001b[0m\u001b[0m\n",
      "\u001b[0;32m/usr/local/lib/python3.8/site-packages/sklearn/utils/validation.py\u001b[0m in \u001b[0;36mcheck_array\u001b[0;34m(array, accept_sparse, accept_large_sparse, dtype, order, copy, force_all_finite, ensure_2d, allow_nd, ensure_min_samples, ensure_min_features, estimator)\u001b[0m\n\u001b[1;32m    642\u001b[0m \u001b[0;34m\u001b[0m\u001b[0m\n\u001b[1;32m    643\u001b[0m         \u001b[0;32mif\u001b[0m \u001b[0mforce_all_finite\u001b[0m\u001b[0;34m:\u001b[0m\u001b[0;34m\u001b[0m\u001b[0;34m\u001b[0m\u001b[0m\n\u001b[0;32m--> 644\u001b[0;31m             _assert_all_finite(array,\n\u001b[0m\u001b[1;32m    645\u001b[0m                                allow_nan=force_all_finite == 'allow-nan')\n\u001b[1;32m    646\u001b[0m \u001b[0;34m\u001b[0m\u001b[0m\n",
      "\u001b[0;32m/usr/local/lib/python3.8/site-packages/sklearn/utils/validation.py\u001b[0m in \u001b[0;36m_assert_all_finite\u001b[0;34m(X, allow_nan, msg_dtype)\u001b[0m\n\u001b[1;32m     94\u001b[0m                 not allow_nan and not np.isfinite(X).all()):\n\u001b[1;32m     95\u001b[0m             \u001b[0mtype_err\u001b[0m \u001b[0;34m=\u001b[0m \u001b[0;34m'infinity'\u001b[0m \u001b[0;32mif\u001b[0m \u001b[0mallow_nan\u001b[0m \u001b[0;32melse\u001b[0m \u001b[0;34m'NaN, infinity'\u001b[0m\u001b[0;34m\u001b[0m\u001b[0;34m\u001b[0m\u001b[0m\n\u001b[0;32m---> 96\u001b[0;31m             raise ValueError(\n\u001b[0m\u001b[1;32m     97\u001b[0m                     \u001b[0mmsg_err\u001b[0m\u001b[0;34m.\u001b[0m\u001b[0mformat\u001b[0m\u001b[0;34m\u001b[0m\u001b[0;34m\u001b[0m\u001b[0m\n\u001b[1;32m     98\u001b[0m                     (type_err,\n",
      "\u001b[0;31mValueError\u001b[0m: Input contains NaN, infinity or a value too large for dtype('float64')."
     ]
    }
   ],
   "source": [
    "#ocuamos 9 clusters\n",
    "K = range(1, 15)\n",
    "sum_squared_distances = []\n",
    "\n",
    "for k in K:\n",
    "    model = KMeans(n_clusters = k).fit(data_p)\n",
    "    sum_squared_distances.append(model.inertia_)\n",
    "plt.plot(K, sum_squared_distances, 'bx-')\n",
    "plt.xlabel(\"K Values\")\n",
    "plt.ylabel(\"Sum Squared Distances\")\n",
    "plt.title(\"Elbow Method\")\n",
    "plt.show()"
   ]
  },
  {
   "cell_type": "code",
   "execution_count": null,
   "metadata": {},
   "outputs": [],
   "source": [
    "#Your code here:\n",
    "\n",
    "\n"
   ]
  }
 ],
 "metadata": {
  "kernelspec": {
   "display_name": "Python 3",
   "language": "python",
   "name": "python3"
  },
  "language_info": {
   "codemirror_mode": {
    "name": "ipython",
    "version": 3
   },
   "file_extension": ".py",
   "mimetype": "text/x-python",
   "name": "python",
   "nbconvert_exporter": "python",
   "pygments_lexer": "ipython3",
   "version": "3.8.5"
  }
 },
 "nbformat": 4,
 "nbformat_minor": 2
}
